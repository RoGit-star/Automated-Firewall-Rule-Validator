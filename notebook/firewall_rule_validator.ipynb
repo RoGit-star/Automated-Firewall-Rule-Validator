{
 "cells": [
  {
   "cell_type": "markdown",
   "id": "2135bb97-f967-4405-bcff-89797f6de93c",
   "metadata": {},
   "source": [
    "### Step 1. Import Libraries - This section loads essential libraries for data parsing and visualization."
   ]
  },
  {
   "cell_type": "code",
   "execution_count": 35,
   "id": "c9f0b46a-9f61-4715-8d2c-2fc12087bac6",
   "metadata": {},
   "outputs": [],
   "source": [
    "import pandas as pd\n",
    "from tabulate import tabulate"
   ]
  },
  {
   "cell_type": "markdown",
   "id": "431499cb-1b6c-4e9c-aa75-45494ce40559",
   "metadata": {},
   "source": [
    "### Step 2. Load Data"
   ]
  },
  {
   "cell_type": "code",
   "execution_count": 36,
   "id": "9f309290-37e2-4028-97b0-3d14a8948271",
   "metadata": {},
   "outputs": [
    {
     "name": "stdout",
     "output_type": "stream",
     "text": [
      "✅ File found: /Users/lindarodriguez/Documents/firewall_validator_project/data/sample_firewall_rules.csv\n",
      "✅ CSV loaded successfully!\n",
      "\n",
      "📋 Preview of your data:\n",
      "   RuleID     SourceIP DestinationIP  Port Protocol Action\n",
      "0       1    0.0.0.0/0  192.168.1.10    22      TCP  ALLOW\n",
      "1       2  192.168.1.5  192.168.1.10   443      TCP  ALLOW\n",
      "2       3    0.0.0.0/0  192.168.1.10  3389      TCP  ALLOW\n",
      "3       4   10.0.0.0/8  192.168.1.20    80      TCP   DENY\n"
     ]
    }
   ],
   "source": [
    "import os\n",
    "import pandas as pd\n",
    "\n",
    "# Define the expected data path\n",
    "data_path = '../data/sample_firewall_rules.csv'\n",
    "\n",
    "# Check if file exists\n",
    "if not os.path.exists(data_path):\n",
    "    print(f\"❌ File not found at: {os.path.abspath(data_path)}\")\n",
    "    print(\"\\n🔍 Tip: Check your folder structure. You may need to adjust the path.\")\n",
    "else:\n",
    "    print(f\"✅ File found: {os.path.abspath(data_path)}\")\n",
    "    # Try reading the CSV\n",
    "    df = pd.read_csv(data_path)\n",
    "    print(\"✅ CSV loaded successfully!\\n\")\n",
    "    print(\"📋 Preview of your data:\")\n",
    "    print(df.head())\n"
   ]
  },
  {
   "cell_type": "markdown",
   "id": "98f766d4-91d7-4aa0-93d5-1f9e865c48e7",
   "metadata": {},
   "source": [
    "### Step 3. Define Validation Rules - check for \"Allow all\" sources; unrestricted ports (i.e. 22, 3389 open to all); missing deny statements"
   ]
  },
  {
   "cell_type": "code",
   "execution_count": 37,
   "id": "e4d14de6-df4f-4f2c-8a68-e80c9ce319f7",
   "metadata": {},
   "outputs": [],
   "source": [
    "def validate_firewall_rules(df):\n",
    "    issues = []\n",
    "    \n",
    "    for index, row in df.iterrows():\n",
    "        if row['SourceIP'] == '0.0.0.0/0' and row['Action'].upper() == 'ALLOW':\n",
    "            issues.append({\n",
    "                'RuleID': row['RuleID'],\n",
    "                'Issue': 'Overly permissive rule',\n",
    "                'Description': f\"Rule {row['RuleID']} allows traffic from any source.\"\n",
    "            })\n",
    "        \n",
    "        if row['Port'] in [22, 3389] and row['SourceIP'] == '0.0.0.0/0':\n",
    "            issues.append({\n",
    "                'RuleID': row['RuleID'],\n",
    "                'Issue': 'Sensitive port open to all',\n",
    "                'Description': f\"Port {row['Port']} is exposed globally.\"\n",
    "            })\n",
    "    \n",
    "    return pd.DataFrame(issues)\n"
   ]
  },
  {
   "cell_type": "markdown",
   "id": "828f1fd8-809d-460e-9e8b-9db55e8a9af4",
   "metadata": {},
   "source": [
    "### Step 4. Run Validation -This prints a clean, readable table of all flagged issues."
   ]
  },
  {
   "cell_type": "code",
   "execution_count": 38,
   "id": "66f59f9a-8f06-4551-85e9-919e2ae94251",
   "metadata": {},
   "outputs": [
    {
     "name": "stdout",
     "output_type": "stream",
     "text": [
      "+---+--------+----------------------------+----------------------------------------+\n",
      "|   | RuleID |           Issue            |              Description               |\n",
      "+---+--------+----------------------------+----------------------------------------+\n",
      "| 0 |   1    |   Overly permissive rule   | Rule 1 allows traffic from any source. |\n",
      "| 1 |   1    | Sensitive port open to all |      Port 22 is exposed globally.      |\n",
      "| 2 |   3    |   Overly permissive rule   | Rule 3 allows traffic from any source. |\n",
      "| 3 |   3    | Sensitive port open to all |     Port 3389 is exposed globally.     |\n",
      "+---+--------+----------------------------+----------------------------------------+\n"
     ]
    }
   ],
   "source": [
    "results = validate_firewall_rules(df)\n",
    "print(tabulate(results, headers='keys', tablefmt='pretty'))"
   ]
  },
  {
   "cell_type": "markdown",
   "id": "1c5ff8bd-6dc6-426a-ab18-90041c04b6f3",
   "metadata": {},
   "source": [
    "### Step 5. Save Results"
   ]
  },
  {
   "cell_type": "code",
   "execution_count": 39,
   "id": "5c5f0dda-6a58-4f75-a199-866d66876c9d",
   "metadata": {},
   "outputs": [],
   "source": [
    "results.to_csv('../reports/firewall_validation_report.csv', index=False)"
   ]
  },
  {
   "cell_type": "markdown",
   "id": "92ada15c-7ae6-486a-82df-bf19cf530b5b",
   "metadata": {},
   "source": [
    "### Step 6. Add Markdown Cells in Jupyter"
   ]
  },
  {
   "cell_type": "markdown",
   "id": "4de6cce4-5192-4ac1-a0a6-064db93b9ccc",
   "metadata": {},
   "source": [
    "#### Document each steps in between the code cells using Markdown headers to keep a track of progress of the project."
   ]
  },
  {
   "cell_type": "markdown",
   "id": "cf2b6bb2-3abc-4d1b-953b-521c60ee8883",
   "metadata": {},
   "source": [
    "### Step 7. Extending the Firewall Rule Validator - Turning the prototype into a professional extensible tool. In this section, support is added for:\n",
    "- JSON input format\n",
    "- Severity levels for each finding\n",
    "- Compliance reference tags (CIS/OWASP)"
   ]
  },
  {
   "cell_type": "code",
   "execution_count": 40,
   "id": "150f19dd-cdb7-437e-96aa-3e5fd1f2a1e1",
   "metadata": {},
   "outputs": [
    {
     "name": "stdout",
     "output_type": "stream",
     "text": [
      "✅ JSON file loaded successfully!\n",
      "   Rule_ID     Source_IP Destination_IP  Port Protocol Action\n",
      "0        1     0.0.0.0/0       10.0.0.5    22      TCP  Allow\n",
      "1        2  192.168.1.10       10.0.0.5   443      TCP  Allow\n",
      "2        3     0.0.0.0/0      10.0.0.10  3389    Allow    NaN\n",
      "3        4   10.0.0.0/24       10.0.0.5    80      TCP  Allow\n"
     ]
    }
   ],
   "source": [
    "import json\n",
    "import pandas as pd\n",
    "from tabulate import tabulate\n",
    "\n",
    "# Try to load JSON file as alternate input\n",
    "json_path = '../data/firewall_rules_mock.json'  # 👈 Change if your filename differs\n",
    "\n",
    "try:\n",
    "    with open(json_path, 'r') as f:\n",
    "        rules_json = json.load(f)\n",
    "        df_json = pd.DataFrame(rules_json)\n",
    "        print(\"✅ JSON file loaded successfully!\")\n",
    "        print(df_json.head())\n",
    "except FileNotFoundError:\n",
    "    print(\"⚠️ No JSON file found. Using the CSV data instead.\")\n",
    "    df_json = df  # fallback to your existing CSV DataFrame\n"
   ]
  },
  {
   "cell_type": "markdown",
   "id": "b93430fe-09e1-4467-806d-1f7caf4c102b",
   "metadata": {},
   "source": [
    "### Step 8. Adding Severity Levels\n",
    "Each finding will include a 'Severity' field ranked as:\n",
    "- High: Critical exposure (e.g., SSH/RDP open to all)\n",
    "- Medium: General over-permissive rule\n",
    "- Low: Minor deviation"
   ]
  },
  {
   "cell_type": "code",
   "execution_count": 47,
   "id": "e3136428-26b1-4c42-8658-0fcf20470c06",
   "metadata": {},
   "outputs": [],
   "source": [
    "def validate_firewall_rules_extended(df):\n",
    "    issues = []\n",
    "\n",
    "    for _, row in df.iterrows():\n",
    "        # Overly permissive rule\n",
    "        if row['SourceIP'] == '0.0.0.0/0' and row['Action'].upper() == 'ALLOW':\n",
    "            issues.append({\n",
    "                'RuleID': row['RuleID'],\n",
    "                'Issue': 'Overly permissive rule',\n",
    "                'Severity': 'Medium',\n",
    "                'Description': f\"Rule {row['RuleID']} allows traffic from any source.\"\n",
    "            })\n",
    "\n",
    "        # Sensitive ports (SSH, RDP)\n",
    "        if row['Port'] in [22, 3389] and row['SourceIP'] == '0.0.0.0/0':\n",
    "            issues.append({\n",
    "                'RuleID': row['RuleID'],\n",
    "                'Issue': 'Sensitive port open to all',\n",
    "                'Severity': 'High',\n",
    "                'Description': f\"Port {row['Port']} is exposed globally.\"\n",
    "            })\n",
    "\n",
    "    return pd.DataFrame(issues)"
   ]
  },
  {
   "cell_type": "code",
   "execution_count": 48,
   "id": "ecba5904-8f6d-48ca-8037-aaac314f7002",
   "metadata": {},
   "outputs": [
    {
     "name": "stdout",
     "output_type": "stream",
     "text": [
      "📋 Columns in df_json:\n",
      "['Rule_ID', 'Source_IP', 'Destination_IP', 'Port', 'Protocol', 'Action']\n",
      "\n",
      "🔍 Preview of the data:\n",
      "   Rule_ID     Source_IP Destination_IP  Port Protocol Action\n",
      "0        1     0.0.0.0/0       10.0.0.5    22      TCP  Allow\n",
      "1        2  192.168.1.10       10.0.0.5   443      TCP  Allow\n",
      "2        3     0.0.0.0/0      10.0.0.10  3389    Allow    NaN\n",
      "3        4   10.0.0.0/24       10.0.0.5    80      TCP  Allow\n"
     ]
    }
   ],
   "source": [
    "print(\"📋 Columns in df_json:\")\n",
    "print(df_json.columns.tolist())\n",
    "\n",
    "print(\"\\n🔍 Preview of the data:\")\n",
    "print(df_json.head())"
   ]
  },
  {
   "cell_type": "code",
   "execution_count": 58,
   "id": "d45d7329-b829-4d08-bcad-f03460816cf5",
   "metadata": {},
   "outputs": [
    {
     "name": "stdout",
     "output_type": "stream",
     "text": [
      "✅ Renamed columns:\n",
      "['RuleID', 'SourceIP', 'DestinationIP', 'Port', 'Protocol', 'Action']\n"
     ]
    }
   ],
   "source": [
    "df_json = df_json.rename(columns={'Rule_ID':'RuleID', 'Source_IP': 'SourceIP', 'Destination_IP': 'DestinationIP', 'port': 'Port', 'protocol': 'Protocol', 'action': 'Action'\n",
    "})\n",
    "\n",
    "print(\"✅ Renamed columns:\")\n",
    "print(df_json.columns.tolist())\n"
   ]
  },
  {
   "cell_type": "code",
   "execution_count": 64,
   "id": "3409f1b5-6654-46ab-9835-da79c11cf8d4",
   "metadata": {},
   "outputs": [],
   "source": []
  },
  {
   "cell_type": "code",
   "execution_count": 67,
   "id": "c376a254-aee6-47b7-a63c-69a09c074006",
   "metadata": {},
   "outputs": [
    {
     "name": "stdout",
     "output_type": "stream",
     "text": [
      "📊 Missing values per column:\n",
      "RuleID           0\n",
      "SourceIP         0\n",
      "DestinationIP    0\n",
      "Port             0\n",
      "Protocol         0\n",
      "Action           0\n",
      "dtype: int64\n"
     ]
    }
   ],
   "source": [
    "df_json['Action'] = df_json['Action'].fillna('UNKNOWN')\n",
    "\n",
    "print(\"📊 Missing values per column:\")\n",
    "print(df_json.isna().sum())"
   ]
  },
  {
   "cell_type": "code",
   "execution_count": 68,
   "id": "c6121989-7878-4122-b5cb-1243bbf2b7c1",
   "metadata": {},
   "outputs": [
    {
     "name": "stdout",
     "output_type": "stream",
     "text": [
      "+---+--------+----------------------------+----------+----------------------------------------+\n",
      "|   | RuleID |           Issue            | Severity |              Description               |\n",
      "+---+--------+----------------------------+----------+----------------------------------------+\n",
      "| 0 |   1    |   Overly permissive rule   |  Medium  | Rule 1 allows traffic from any source. |\n",
      "| 1 |   1    | Sensitive port open to all |   High   |      Port 22 is exposed globally.      |\n",
      "| 2 |   3    | Sensitive port open to all |   High   |     Port 3389 is exposed globally.     |\n",
      "+---+--------+----------------------------+----------+----------------------------------------+\n"
     ]
    }
   ],
   "source": [
    "results_extended = validate_firewall_rules_extended(df_json)\n",
    "print(tabulate(results_extended, headers='keys', tablefmt='pretty'))"
   ]
  },
  {
   "cell_type": "markdown",
   "id": "1bc5efc6-69f9-4265-a1a1-0c1ebe0a7901",
   "metadata": {},
   "source": [
    "### Step 9. Documentation\n",
    "- Two rules were overly permissive\n",
    "- Recommendation to restrict SSH and RDP to internal ranges only.\n",
    "- Notebook to be exported for submission"
   ]
  },
  {
   "cell_type": "code",
   "execution_count": null,
   "id": "ab319a6f-a331-442b-8eb8-401eeb34ad2f",
   "metadata": {},
   "outputs": [],
   "source": []
  }
 ],
 "metadata": {
  "kernelspec": {
   "display_name": "Python 3 (ipykernel)",
   "language": "python",
   "name": "python3"
  },
  "language_info": {
   "codemirror_mode": {
    "name": "ipython",
    "version": 3
   },
   "file_extension": ".py",
   "mimetype": "text/x-python",
   "name": "python",
   "nbconvert_exporter": "python",
   "pygments_lexer": "ipython3",
   "version": "3.13.5"
  }
 },
 "nbformat": 4,
 "nbformat_minor": 5
}
